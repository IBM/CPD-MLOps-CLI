{
 "cells": [
  {
   "cell_type": "code",
   "execution_count": null,
   "id": "alpha-avenue",
   "metadata": {
    "id": "902668b0-670b-4d7f-9021-55ba3ca35f8d",
    "tags": []
   },
   "outputs": [],
   "source": [
    "# !pip install --upgrade ibm-watson-openscale --no-cache | tail -n 1"
   ]
  },
  {
   "cell_type": "code",
   "execution_count": null,
   "id": "removed-original",
   "metadata": {
    "id": "e2ef5cb6-cd00-4605-b1d1-b6e8a88082da",
    "tags": []
   },
   "outputs": [],
   "source": [
    "import os\n",
    "from ibm_watson_openscale.base_classes.watson_open_scale_v2 import WMLCredentialsCP4D\n",
    "import urllib3\n",
    "urllib3.disable_warnings(urllib3.exceptions.InsecureRequestWarning)"
   ]
  },
  {
   "cell_type": "markdown",
   "id": "tight-brighton",
   "metadata": {
    "id": "d099020b-2f0b-403f-9384-ab66227d5978"
   },
   "source": [
    "# Create Dummy Headless ML Provider in OpenScale\n",
    "This is used when there is no need for OpenScale to communicate with the deployment (e.g., send scoring request to the endpoint)."
   ]
  },
  {
   "cell_type": "code",
   "execution_count": null,
   "id": "original-enemy",
   "metadata": {
    "id": "89161e5a-609b-418a-a720-c3a9d68becac",
    "tags": []
   },
   "outputs": [],
   "source": [
    "from ibm_cloud_sdk_core.authenticators import BearerTokenAuthenticator\n",
    "from ibm_watson_openscale import *\n",
    "from ibm_watson_openscale.supporting_classes.enums import *\n",
    "from ibm_watson_openscale.supporting_classes import *"
   ]
  },
  {
   "cell_type": "code",
   "execution_count": null,
   "id": "incredible-mississippi",
   "metadata": {
    "id": "f09e48b6-6132-480e-88cb-a2556925db2f",
    "tags": []
   },
   "outputs": [],
   "source": [
    "authenticator = BearerTokenAuthenticator(\n",
    "        bearer_token=os.environ['USER_ACCESS_TOKEN']\n",
    "    )\n",
    "\n",
    "wos_client = APIClient(authenticator=authenticator, \n",
    "                       service_url=os.environ['RUNTIME_ENV_APSX_URL'])\n",
    "wos_client.version"
   ]
  },
  {
   "cell_type": "code",
   "execution_count": null,
   "id": "closed-advertiser",
   "metadata": {
    "id": "9b1f19ab-13b6-403b-825c-a9df0261cf73",
    "tags": []
   },
   "outputs": [],
   "source": [
    "wos_client.data_marts.show()"
   ]
  },
  {
   "cell_type": "code",
   "execution_count": null,
   "id": "detailed-sudan",
   "metadata": {
    "id": "c42c527d-1503-451a-976b-06ab8949dcee",
    "tags": []
   },
   "outputs": [],
   "source": [
    "data_marts = wos_client.data_marts.list().result.data_marts\n",
    "DATA_MART_ID = data_marts[0].metadata.id\n",
    "DATA_MART_ID \n",
    "print(\"Data Mart ID: {}\".format(DATA_MART_ID))"
   ]
  },
  {
   "cell_type": "markdown",
   "id": "matched-jacket",
   "metadata": {
    "id": "b22eacbf-9cdf-4f9e-8f8b-3a6901b69a64"
   },
   "source": [
    "## Create headless service provider"
   ]
  },
  {
   "cell_type": "code",
   "execution_count": null,
   "id": "controversial-status",
   "metadata": {
    "id": "b9b9a9db-434f-42a8-958f-2f3c8629e538",
    "tags": []
   },
   "outputs": [],
   "source": [
    "SERVICE_PROVIDER_NAME = \"OpenScale Headless Service Provider\"\n",
    "SERVICE_PROVIDER_DESCRIPTION = \"\""
   ]
  },
  {
   "cell_type": "code",
   "execution_count": null,
   "id": "temporal-andorra",
   "metadata": {
    "id": "32c50c01-9d70-45e0-bb73-9c33f3fcab2a",
    "tags": []
   },
   "outputs": [],
   "source": [
    "existing_providers_dict = wos_client.service_providers.list().get_result().to_dict()['service_providers']\n",
    "existing_providers = [sp['entity']['name'] for sp in existing_providers_dict]\n",
    "\n",
    "if not SERVICE_PROVIDER_NAME in existing_providers:\n",
    "    added_service_provider_result = wos_client.service_providers.add(\n",
    "        name=SERVICE_PROVIDER_NAME,\n",
    "        description=SERVICE_PROVIDER_DESCRIPTION,\n",
    "        service_type=ServiceTypes.CUSTOM_MACHINE_LEARNING,\n",
    "        operational_space_id = \"production\",\n",
    "        credentials=WMLCredentialsCP4D(),\n",
    "        background_mode=False\n",
    "     ).result\n",
    "    \n",
    "    SERVICE_PROVIDER_ID = added_service_provider_result.metadata.id\n",
    "    print(f\"Service provider ID: {SERVICE_PROVIDER_ID}\")\n",
    "else:\n",
    "    SERVICE_PROVIDER_ID = next((sp['metadata']['id'] for sp in existing_providers_dict \\\n",
    "                                if sp['entity']['name'] == SERVICE_PROVIDER_NAME))\n",
    "    print(f\"Service provider ID: {SERVICE_PROVIDER_ID}\")"
   ]
  },
  {
   "cell_type": "code",
   "execution_count": null,
   "id": "tracked-shirt",
   "metadata": {
    "id": "64de8cc3-7355-464c-bfe9-adfac8944689",
    "tags": []
   },
   "outputs": [],
   "source": [
    "wos_client.service_providers.show()"
   ]
  }
 ],
 "metadata": {
  "kernelspec": {
   "display_name": "Python 3.8.6 64-bit",
   "language": "python",
   "name": "python3"
  },
  "language_info": {
   "codemirror_mode": {
    "name": "ipython",
    "version": 3
   },
   "file_extension": ".py",
   "mimetype": "text/x-python",
   "name": "python",
   "nbconvert_exporter": "python",
   "pygments_lexer": "ipython3",
   "version": "3.8.6"
  },
  "vscode": {
   "interpreter": {
    "hash": "aee8b7b246df8f9039afb4144a1f6fd8d2ca17a180786b69acc140d282b71a49"
   }
  }
 },
 "nbformat": 4,
 "nbformat_minor": 5
}
